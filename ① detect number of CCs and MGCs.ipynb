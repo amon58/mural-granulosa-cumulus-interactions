{
 "cells": [
  {
   "cell_type": "code",
   "execution_count": null,
   "id": "670e448b-ec3b-41bb-80fe-d60ecf2b10d3",
   "metadata": {},
   "outputs": [],
   "source": [
    "install.packages(\"Seurat\")\n",
    "packageVersion(\"Seurat\")"
   ]
  },
  {
   "cell_type": "code",
   "execution_count": null,
   "id": "eb3564bf-c757-4946-b95e-8e412a901106",
   "metadata": {},
   "outputs": [],
   "source": [
    "library(dplyr)\n",
    "library(patchwork)\n",
    "library(Seurat)\n",
    "library(ggplot2)                  \n",
    "library(igraph)"
   ]
  },
  {
   "cell_type": "code",
   "execution_count": 7,
   "id": "dd6d1c13-7982-4ddb-931a-0b1c292009f6",
   "metadata": {},
   "outputs": [],
   "source": [
    "options(stringsAsFactors = FALSE)"
   ]
  },
  {
   "cell_type": "code",
   "execution_count": null,
   "id": "6e78f56f-114b-4733-acaa-17aeb57fb923",
   "metadata": {},
   "outputs": [],
   "source": [
    "data_dir <- \"GSM4306638\"\n",
    "list.files(data_dir)\n",
    "expression_matrix <- Read10X(data.dir = data_dir)\n",
    "seurat_object <- CreateSeuratObject(counts = expression_matrix,min.cells = 5,min.features = 500)"
   ]
  },
  {
   "cell_type": "code",
   "execution_count": null,
   "id": "226fbc41-3daf-4191-9a2a-ec4654eedd8d",
   "metadata": {},
   "outputs": [],
   "source": [
    "head(seurat_object)"
   ]
  },
  {
   "cell_type": "code",
   "execution_count": null,
   "id": "746d9306-acde-452a-b2c6-a714225f8008",
   "metadata": {},
   "outputs": [],
   "source": [
    "seurat_object[[\"percent.mt\"]] <- PercentageFeatureSet(seurat_object, pattern = \"^mt-\")\n",
    "VlnPlot(seurat_object,features = c(\"nFeature_RNA\",\"nCount_RNA\",\"percent.mt\"),ncol = 3)"
   ]
  },
  {
   "cell_type": "code",
   "execution_count": null,
   "id": "ba878144-190e-4c9a-8975-77b5e31ee914",
   "metadata": {},
   "outputs": [],
   "source": [
    "seurat_object <- subset(seurat_object, subset =  percent.mt < 5)"
   ]
  },
  {
   "cell_type": "code",
   "execution_count": null,
   "id": "821e2ebc-315c-4fcd-8aa7-a11103c5bac9",
   "metadata": {},
   "outputs": [],
   "source": [
    "seurat_object <- NormalizeData(seurat_object,normalization.method = \"LogNormalize\",scale.factor = 10000)"
   ]
  },
  {
   "cell_type": "code",
   "execution_count": null,
   "id": "91253c48-c2db-493f-bf8f-20c0e8f59192",
   "metadata": {},
   "outputs": [],
   "source": [
    "# Detection of highly variable genes\n",
    "seurat_object <- FindVariableFeatures(seurat_object, selection.method = \"vst\", nfeatures = 2000)\n",
    "\n",
    "# Identify the 10 most highly variable genes\n",
    "top10 <- head(VariableFeatures(seurat_object), 10)\n",
    "\n",
    "# plot variable features with and without labels\n",
    "plot1 <- VariableFeaturePlot(seurat_object)\n",
    "plot2 <- LabelPoints(plot = plot1, points = top10, repel = TRUE)\n",
    "plot2"
   ]
  },
  {
   "cell_type": "code",
   "execution_count": null,
   "id": "57343431-e8f6-4eb7-8356-a05e99f70d00",
   "metadata": {},
   "outputs": [],
   "source": [
    "all.genes <- rownames(seurat_object)\n",
    "# Data scaling\n",
    "seurat_object <- ScaleData(seurat_object, features = all.genes)"
   ]
  },
  {
   "cell_type": "code",
   "execution_count": null,
   "id": "a7d7ca0f-1289-40c0-9f1c-06cf24ca1d01",
   "metadata": {},
   "outputs": [],
   "source": [
    "seurat_object <- RunPCA(seurat_object, features = VariableFeatures(object = seurat_object))"
   ]
  },
  {
   "cell_type": "code",
   "execution_count": null,
   "id": "99a10326-8e53-4278-ad53-33041f9a7942",
   "metadata": {},
   "outputs": [],
   "source": [
    "# NOTE: This process can take a long time for big datasets, comment out for expediency. More\n",
    "# approximate techniques such as those implemented in ElbowPlot() can be used to reduce\n",
    "# computation time\n",
    "seurat_object <- JackStraw(seurat_object, num.replicate = 100)\n",
    "seurat_object <- ScoreJackStraw(seurat_object, dims = 1:20)"
   ]
  },
  {
   "cell_type": "code",
   "execution_count": null,
   "id": "43009ed6-bf87-4d83-b340-d44a7b56904e",
   "metadata": {},
   "outputs": [],
   "source": [
    "seurat_object <- FindNeighbors(seurat_object,dims = 1:50)\n",
    "seurat_object1 <- FindClusters(seurat_object, resolution = 1)"
   ]
  },
  {
   "cell_type": "code",
   "execution_count": null,
   "id": "40499676-12dc-418a-a19a-2572e7e677ba",
   "metadata": {},
   "outputs": [],
   "source": [
    "seurat_object1 <- RunUMAP(seurat_object1, dims = 1:50)"
   ]
  },
  {
   "cell_type": "code",
   "execution_count": null,
   "id": "5a20a043-09b1-40b6-9b7c-a6ac9284d171",
   "metadata": {},
   "outputs": [],
   "source": [
    "DimPlot(seurat_object1,reduction = \"umap\",label = T,group.by = \"seurat_clusters\")"
   ]
  },
  {
   "cell_type": "code",
   "execution_count": null,
   "id": "732ddb52-dcc4-4e48-84e5-a2c01a28fe04",
   "metadata": {},
   "outputs": [],
   "source": [
    "# find markers for every cluster compared to all remaining cells, report only the positive\n",
    "# ones\n",
    "cl.markers <- FindAllMarkers(seurat_object1, only.pos = TRUE, min.pct = 0.25, logfc.threshold = 0.25)\n",
    "cl.markers %>%\n",
    "    group_by(cluster) %>%\n",
    "    slice_max(n = 10, order_by = avg_log2FC)"
   ]
  },
  {
   "cell_type": "code",
   "execution_count": 25,
   "id": "ceb6d7f8-b9b2-4b82-961a-b1789c36a402",
   "metadata": {},
   "outputs": [],
   "source": [
    "write.csv(cl.markers,\"top10_markers.csv\")"
   ]
  },
  {
   "cell_type": "code",
   "execution_count": null,
   "id": "4023849e-aaec-4a00-be6e-6f42cb08d57d",
   "metadata": {},
   "outputs": [],
   "source": [
    "FeaturePlot(seurat_object1, features = c(\"Snap25\",\"Ube2c\"))"
   ]
  },
  {
   "cell_type": "code",
   "execution_count": null,
   "id": "326faa7c-c976-4a54-b540-7de00c118ef9",
   "metadata": {},
   "outputs": [],
   "source": [
    "#. 0 ovulatory GC (Snap25), 2 ovulatory CC (Ube2c)\n",
    "# Convert cluster numbers into new cell type labels\n",
    "new_cluster_ids <- as.character(Idents(seurat_object1))  # Retrieve current cluster IDs\n",
    "new_cluster_ids[new_cluster_ids == \"0\"] <- \"MGCs\"       # Cluster 0 → MGCs\n",
    "new_cluster_ids[new_cluster_ids == \"2\"] <- \"CCs\"        # Cluster 2 → CCs\n",
    "new_cluster_ids[!new_cluster_ids %in% c(\"MGCs\", \"CCs\")] <- \"Others\"  # All other clusters → Others\n",
    "\n",
    "# Add the new cell type information into metadata\n",
    "seurat_object1$cell_type <- new_cluster_ids\n",
    "\n",
    "# Set Idents to the new cell type labels\n",
    "Idents(seurat_object1) <- seurat_object1$cell_type\n",
    "\n",
    "# Define colors (customize if needed)\n",
    "colors <- c(\"MGCs\" = \"#E41A1C\", \"CCs\" = \"#377EB8\", \"Others\" = \"#999999\")\n",
    "\n",
    "# UMAP plot (without labels)\n",
    "umap_plot <- DimPlot(seurat_object1, group.by = \"cell_type\", cols = colors, label = FALSE, pt.size = 1)\n",
    "\n",
    "# Extract UMAP coordinates and cell_type information (converted to lowercase automatically by Seurat)\n",
    "umap_data <- FetchData(seurat_object1, vars = c(\"umap_1\", \"umap_2\", \"cell_type\"))\n",
    "\n",
    "# Calculate the centroid (mean coordinates) for each cell type\n",
    "centroids <- aggregate(cbind(umap_1, umap_2) ~ cell_type, data = umap_data, FUN = mean)\n",
    "\n",
    "# Add offsets for label positions (adjusted only for MGCs and CCs)\n",
    "centroids$umap_1_offset <- centroids$umap_1\n",
    "centroids$umap_2_offset <- centroids$umap_2\n",
    "\n",
    "# Offset the label position for MGCs (shift to upper right)\n",
    "centroids$umap_1_offset[centroids$cell_type == \"MGCs\"] <- centroids$umap_1[centroids$cell_type == \"MGCs\"] - 4\n",
    "centroids$umap_2_offset[centroids$cell_type == \"MGCs\"] <- centroids$umap_2[centroids$cell_type == \"MGCs\"] + 1\n",
    "\n",
    "# Offset the label position for CCs (shift to upper left)\n",
    "centroids$umap_1_offset[centroids$cell_type == \"CCs\"] <- centroids$umap_1[centroids$cell_type == \"CCs\"] - 3\n",
    "centroids$umap_2_offset[centroids$cell_type == \"CCs\"] <- centroids$umap_2[centroids$cell_type == \"CCs\"] + 1\n",
    "\n",
    "# Others remain unchanged (can be adjusted if needed)\n",
    "\n",
    "# UMAP plot with adjusted cluster labels\n",
    "umap_plot +\n",
    "  geom_text(data = centroids, aes(x = umap_1_offset, y = umap_2_offset, label = cell_type),\n",
    "            color = \"black\", size = 6, fontface = \"bold\", hjust = 0.5) +\n",
    "  ggtitle(\"UMAP with Adjusted Cluster Labels\")\n"
   ]
  },
  {
   "cell_type": "code",
   "execution_count": null,
   "id": "005b1152-9387-4515-9ce9-15963cfbe4f6",
   "metadata": {},
   "outputs": [],
   "source": [
    "table(seurat_object1$cell_type)"
   ]
  }
 ],
 "metadata": {
  "kernelspec": {
   "display_name": "R 4.3.2",
   "language": "R",
   "name": "ir432"
  },
  "language_info": {
   "codemirror_mode": "r",
   "file_extension": ".r",
   "mimetype": "text/x-r-source",
   "name": "R",
   "pygments_lexer": "r",
   "version": "4.3.2"
  }
 },
 "nbformat": 4,
 "nbformat_minor": 5
}
