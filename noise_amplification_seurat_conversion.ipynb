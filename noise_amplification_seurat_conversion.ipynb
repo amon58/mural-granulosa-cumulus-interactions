{
 "cells": [
  {
   "attachments": {},
   "cell_type": "markdown",
   "id": "ef539608-a815-4833-8766-2221aac54a31",
   "metadata": {},
   "source": [
    "<span style=\"font-size: 24px;\">Data augmentation of CCs and GCs using Gaussian noise (0h data; 0.1% of the standard deviation; 312 CCs and 680 MGCs)</span>"
   ]
  },
  {
   "cell_type": "code",
   "execution_count": null,
   "id": "2e543f44-904f-49bd-9157-4581372d194a",
   "metadata": {},
   "outputs": [],
   "source": [
    "library(dplyr)\n",
    "library(purrr)"
   ]
  },
  {
   "cell_type": "code",
   "execution_count": 1,
   "id": "52a5b695-c792-4307-b0bc-1b4e2cf52649",
   "metadata": {},
   "outputs": [],
   "source": [
    "# Load the dataset\n",
    "data <- read.csv(\"for_seurat_0h_6.csv\")\n",
    "\n",
    "expand_dataset <- function(data, columns, n_expand, noise_level) {\n",
    "  expanded_data <- data\n",
    "  \n",
    "  # Add Gaussian noise to the specified columns for data augmentation\n",
    "  for (column in columns) {\n",
    "    std_dev <- sd(data[[column]], na.rm = TRUE)\n",
    "    for (i in 1:n_expand) {\n",
    "      noise <- rnorm(nrow(data), mean = 0, sd = std_dev * noise_level)\n",
    "      new_column <- data[[column]] + noise\n",
    "      new_column[new_column < 0] <- 0  # Replace negative values with 0\n",
    "      new_column <- round(new_column)  # Round the values of the new column to integers\n",
    "      # Append the new column to the dataset\n",
    "      expanded_data <- cbind(expanded_data, setNames(as.data.frame(new_column), paste(column, \"expanded\", i, sep = \"_\")))\n",
    "    }\n",
    "  }\n",
    "  \n",
    "  return(expanded_data)\n",
    "}\n",
    "\n",
    "# Retrieve column names\n",
    "columns <- names(data)\n",
    "\n",
    "# Expand the first three columns by generating 103 additional features\n",
    "first_three_columns <- columns[2:4]\n",
    "data_first_expanded <- expand_dataset(data, first_three_columns, 103, 0.001)\n",
    "\n",
    "# Expand the last three columns by generating 226 additional features\n",
    "last_three_columns <- columns[5:7]\n",
    "data_last_expanded <- expand_dataset(data, last_three_columns, 226, 0.001)\n"
   ]
  },
  {
   "cell_type": "code",
   "execution_count": null,
   "id": "f5d383ed-016c-4dab-ba2e-fa1dd624e06a",
   "metadata": {},
   "outputs": [],
   "source": [
    "head(data_first_expanded)\n",
    "head(data_last_expanded)"
   ]
  },
  {
   "cell_type": "code",
   "execution_count": 4,
   "id": "a5c50e54-4b37-46f5-bf6d-ae20364e198c",
   "metadata": {},
   "outputs": [],
   "source": [
    "data_first_expanded <- data_first_expanded[ , -c(5:7)]\n",
    "data_last_expanded <- data_last_expanded[ , -c(2:4)]\n",
    "data_last_expanded <- data_last_expanded[ , -ncol(data_last_expanded)]\n",
    "\n",
    "head(data_first_expanded)\n",
    "head(data_last_expanded)"
   ]
  },
  {
   "cell_type": "markdown",
   "id": "d711a567-5e5a-4227-a9ad-eff8d9e0d13b",
   "metadata": {},
   "source": [
    "<span style=\"font-size: 24px;\">Convert 0h data to Seurat-compatible files</span>\n"
   ]
  },
  {
   "cell_type": "code",
   "execution_count": null,
   "id": "ac9735fd-06d9-4016-9e85-3db03891f46a",
   "metadata": {},
   "outputs": [],
   "source": [
    "merged_data <- cbind(data_first_expanded, data_last_expanded)\n",
    "merged_data <- merged_data[ , -314]\n",
    "merged_data[, -1] <- data.frame(lapply(merged_data[, -1], function(x) as.numeric(as.character(x))))\n",
    "row.names(merged_data) <- merged_data[, 1]\n",
    "merged_data <- merged_data[, -1]                                 \n",
    "head(merged_data)"
   ]
  },
  {
   "cell_type": "code",
   "execution_count": null,
   "id": "f0e90fc0-795f-48f8-840f-5fc9db9d9730",
   "metadata": {},
   "outputs": [],
   "source": [
    "bulk_data <- merged_data\n",
    "library(Matrix)\n",
    "\n",
    "# Generate output directory\n",
    "outdir <- \"for_seurat_0h_6\"\n",
    "if (!dir.exists(outdir)) {\n",
    "  dir.create(outdir)\n",
    "}\n",
    "\n",
    "# barcodes.tsv.gz\n",
    "barcodes <- rownames(bulk_data)\n",
    "write.table(barcodes, file = file.path(outdir, \"barcodes.tsv\"),\n",
    "            quote = FALSE, col.names = FALSE, row.names = FALSE)\n",
    "system(paste(\"gzip -c\", file.path(outdir, \"barcodes.tsv\"), \">\",\n",
    "             file.path(outdir, \"barcodes.tsv.gz\")))\n",
    "file.remove(file.path(outdir, \"barcodes.tsv\"))\n",
    "\n",
    "# features.tsv.gz\n",
    "features <- colnames(bulk_data)\n",
    "write.table(features, file = file.path(outdir, \"features.tsv\"),\n",
    "            quote = FALSE, col.names = FALSE, row.names = FALSE)\n",
    "system(paste(\"gzip -c\", file.path(outdir, \"features.tsv\"), \">\",\n",
    "             file.path(outdir, \"features.tsv.gz\")))\n",
    "file.remove(file.path(outdir, \"features.tsv\"))\n",
    "\n",
    "# matrix.mtx.gz\n",
    "data_matrix <- as.matrix(bulk_data)\n",
    "Matrix::writeMM(as(data_matrix, \"sparseMatrix\"), file.path(outdir, \"matrix.mtx\"))\n",
    "system(paste(\"gzip\", file.path(outdir, \"matrix.mtx\")))\n"
   ]
  },
  {
   "cell_type": "markdown",
   "id": "7374683f-92ee-4bec-b37d-3a667c945592",
   "metadata": {},
   "source": [
    "<span style=\"font-size: 24px;\">Data augmentation of CCs and GCs using Gaussian noise (4h data; 0.1% of the standard deviation; 312 CCs and 680 MGCs)</span>\n"
   ]
  },
  {
   "cell_type": "code",
   "execution_count": 168,
   "id": "c7155491-d2cb-4e71-ab79-beefea8bcaf8",
   "metadata": {},
   "outputs": [],
   "source": [
    "# Load the dataset\n",
    "data <- read.csv(\"for_seurat_4h_6.csv\")\n",
    "\n",
    "expand_dataset <- function(data, columns, n_expand, noise_level) {\n",
    "  expanded_data <- data\n",
    "  \n",
    "  # Add Gaussian noise to the specified columns for data augmentation\n",
    "  for (column in columns) {\n",
    "    std_dev <- sd(data[[column]], na.rm = TRUE)\n",
    "    for (i in 1:n_expand) {\n",
    "      noise <- rnorm(nrow(data), mean = 0, sd = std_dev * noise_level)\n",
    "      new_column <- data[[column]] + noise\n",
    "      new_column[new_column < 0] <- 0  # Replace negative values with 0\n",
    "      new_column <- round(new_column)  # Round the values of the new column to integers\n",
    "      # Append the new column to the dataset\n",
    "      expanded_data <- cbind(expanded_data, setNames(as.data.frame(new_column), paste(column, \"expanded\", i, sep = \"_\")))\n",
    "    }\n",
    "  }\n",
    "  \n",
    "  return(expanded_data)\n",
    "}\n",
    "\n",
    "# Retrieve column names\n",
    "columns <- names(data)\n",
    "\n",
    "# Expand the first three columns by generating 103 additional features\n",
    "first_three_columns <- columns[2:4]\n",
    "data_first_expanded <- expand_dataset(data, first_three_columns, 103, 0.001)\n",
    "\n",
    "# Expand the last three columns by generating 226 additional features\n",
    "last_three_columns <- columns[5:7]\n",
    "data_last_expanded <- expand_dataset(data, last_three_columns, 226, 0.001)\n"
   ]
  },
  {
   "cell_type": "code",
   "execution_count": 169,
   "id": "ddc0c4d2-3bcf-4528-bf9b-6876598e6e9a",
   "metadata": {},
   "outputs": [],
   "source": [
    "head(data_first_expanded)\n",
    "head(data_last_expanded)"
   ]
  },
  {
   "cell_type": "code",
   "execution_count": 43,
   "id": "966fe203-df49-4f64-899d-50d6c5edfbf5",
   "metadata": {},
   "outputs": [],
   "source": [
    "data_first_expanded <- data_first_expanded[ , -c(5:7)]\n",
    "data_last_expanded <- data_last_expanded[ , -c(2:4)]\n",
    "data_last_expanded <- data_last_expanded[ , -ncol(data_last_expanded)]\n",
    "\n",
    "head(data_first_expanded)\n",
    "head(data_last_expanded)"
   ]
  },
  {
   "cell_type": "markdown",
   "id": "dd46fd7a-fe46-4977-a2d9-bd0d09b1bc34",
   "metadata": {},
   "source": [
    "<span style=\"font-size: 24px;\">Convert 4h data to Seurat-compatible files</span>"
   ]
  },
  {
   "cell_type": "code",
   "execution_count": null,
   "id": "0aecd60b-472d-4cfc-b5b1-cacacc0e7fed",
   "metadata": {},
   "outputs": [],
   "source": [
    "merged_data <- cbind(data_first_expanded, data_last_expanded)\n",
    "merged_data <- merged_data[ , -314]\n",
    "merged_data[, -1] <- data.frame(lapply(merged_data[, -1], function(x) as.numeric(as.character(x))))\n",
    "row.names(merged_data) <- merged_data[, 1]\n",
    "merged_data <- merged_data[, -1]                                 \n",
    "head(merged_data)"
   ]
  },
  {
   "cell_type": "code",
   "execution_count": null,
   "id": "2c539de0-31f0-4920-b4e6-359b39abd7eb",
   "metadata": {},
   "outputs": [],
   "source": [
    "bulk_data <- merged_data\n",
    "library(Matrix)\n",
    "\n",
    "# Generate output directory\n",
    "outdir <- \"for_seurat_4h_6\"\n",
    "if (!dir.exists(outdir)) {\n",
    "  dir.create(outdir)\n",
    "}\n",
    "\n",
    "# barcodes.tsv.gz\n",
    "barcodes <- rownames(bulk_data)\n",
    "write.table(barcodes, file = file.path(outdir, \"barcodes.tsv\"),\n",
    "            quote = FALSE, col.names = FALSE, row.names = FALSE)\n",
    "system(paste(\"gzip -c\", file.path(outdir, \"barcodes.tsv\"), \">\",\n",
    "             file.path(outdir, \"barcodes.tsv.gz\")))\n",
    "file.remove(file.path(outdir, \"barcodes.tsv\"))\n",
    "\n",
    "# features.tsv.gz\n",
    "features <- colnames(bulk_data)\n",
    "write.table(features, file = file.path(outdir, \"features.tsv\"),\n",
    "            quote = FALSE, col.names = FALSE, row.names = FALSE)\n",
    "system(paste(\"gzip -c\", file.path(outdir, \"features.tsv\"), \">\",\n",
    "             file.path(outdir, \"features.tsv.gz\")))\n",
    "file.remove(file.path(outdir, \"features.tsv\"))\n",
    "\n",
    "# matrix.mtx.gz\n",
    "data_matrix <- as.matrix(bulk_data)\n",
    "Matrix::writeMM(as(data_matrix, \"sparseMatrix\"), file.path(outdir, \"matrix.mtx\"))\n",
    "system(paste(\"gzip\", file.path(outdir, \"matrix.mtx\")))\n"
   ]
  },
  {
   "cell_type": "markdown",
   "id": "a63c3c0c-edab-43ed-afd1-c15a1a7b5843",
   "metadata": {},
   "source": [
    "<span style=\"font-size: 24px;\">Data augmentation of CCs and GCs using Gaussian noise (12h data; 0.1% of the standard deviation; 312 CCs and 680 MGCs)</span>"
   ]
  },
  {
   "cell_type": "code",
   "execution_count": null,
   "id": "d6665b0b-1f0c-4f31-a949-b4bac609a5f1",
   "metadata": {},
   "outputs": [],
   "source": [
    "# Load the dataset\n",
    "data <- read.csv(\"for_seurat_12h_6.csv\")\n",
    "\n",
    "expand_dataset <- function(data, columns, n_expand, noise_level) {\n",
    "  expanded_data <- data\n",
    "  \n",
    "  # Add Gaussian noise to the specified columns for data augmentation\n",
    "  for (column in columns) {\n",
    "    std_dev <- sd(data[[column]], na.rm = TRUE)\n",
    "    for (i in 1:n_expand) {\n",
    "      noise <- rnorm(nrow(data), mean = 0, sd = std_dev * noise_level)\n",
    "      new_column <- data[[column]] + noise\n",
    "      new_column[new_column < 0] <- 0  # Replace negative values with 0\n",
    "      new_column <- round(new_column)  # Round the values of the new column to integers\n",
    "      # Append the new column to the dataset\n",
    "      expanded_data <- cbind(expanded_data, setNames(as.data.frame(new_column), paste(column, \"expanded\", i, sep = \"_\")))\n",
    "    }\n",
    "  }\n",
    "  \n",
    "  return(expanded_data)\n",
    "}\n",
    "\n",
    "# Retrieve column names\n",
    "columns <- names(data)\n",
    "\n",
    "# Expand the first three columns by generating 103 additional features\n",
    "first_three_columns <- columns[2:4]\n",
    "data_first_expanded <- expand_dataset(data, first_three_columns, 103, 0.001)\n",
    "\n",
    "# Expand the last three columns by generating 226 additional features\n",
    "last_three_columns <- columns[5:7]\n",
    "data_last_expanded <- expand_dataset(data, last_three_columns, 226, 0.001)\n"
   ]
  },
  {
   "cell_type": "code",
   "execution_count": null,
   "id": "0c149340-9805-4382-b17f-22f38419041b",
   "metadata": {},
   "outputs": [],
   "source": [
    "head(data_first_expanded)\n",
    "head(data_last_expanded)"
   ]
  },
  {
   "cell_type": "code",
   "execution_count": null,
   "id": "8c43c2b4-3743-466e-99af-1a303dbc0e53",
   "metadata": {},
   "outputs": [],
   "source": [
    "data_first_expanded <- data_first_expanded[ , -c(5:7)]\n",
    "data_last_expanded <- data_last_expanded[ , -c(2:4)]\n",
    "data_last_expanded <- data_last_expanded[ , -ncol(data_last_expanded)]\n",
    "\n",
    "head(data_first_expanded)\n",
    "head(data_last_expanded)"
   ]
  },
  {
   "cell_type": "markdown",
   "id": "2c992808-0152-4ecb-bcc1-e74f0667bddd",
   "metadata": {},
   "source": [
    "<span style=\"font-size: 24px;\">Convert 12h data to Seurat-compatible files</span>"
   ]
  },
  {
   "cell_type": "code",
   "execution_count": null,
   "id": "8078ec4e-aaed-4992-9e6f-57e7913a23af",
   "metadata": {},
   "outputs": [],
   "source": [
    "merged_data <- cbind(data_first_expanded, data_last_expanded)\n",
    "merged_data <- merged_data[ , -314]\n",
    "merged_data[, -1] <- data.frame(lapply(merged_data[, -1], function(x) as.numeric(as.character(x))))\n",
    "row.names(merged_data) <- merged_data[, 1]\n",
    "merged_data <- merged_data[, -1]                                 \n",
    "head(merged_data)"
   ]
  },
  {
   "cell_type": "code",
   "execution_count": null,
   "id": "8a75ed68-d845-4ba8-8792-ab658c4fdd52",
   "metadata": {},
   "outputs": [],
   "source": [
    "bulk_data <- merged_data\n",
    "library(Matrix)\n",
    "\n",
    "# 出力先フォルダをgeneration\n",
    "outdir <- \"for_seurat_12h_6\"\n",
    "if (!dir.exists(outdir)) {\n",
    "  dir.create(outdir)\n",
    "}\n",
    "\n",
    "# barcodes.tsv.gz\n",
    "barcodes <- rownames(bulk_data)\n",
    "write.table(barcodes, file = file.path(outdir, \"barcodes.tsv\"),\n",
    "            quote = FALSE, col.names = FALSE, row.names = FALSE)\n",
    "system(paste(\"gzip -c\", file.path(outdir, \"barcodes.tsv\"), \">\",\n",
    "             file.path(outdir, \"barcodes.tsv.gz\")))\n",
    "file.remove(file.path(outdir, \"barcodes.tsv\"))\n",
    "\n",
    "# features.tsv.gz\n",
    "features <- colnames(bulk_data)\n",
    "write.table(features, file = file.path(outdir, \"features.tsv\"),\n",
    "            quote = FALSE, col.names = FALSE, row.names = FALSE)\n",
    "system(paste(\"gzip -c\", file.path(outdir, \"features.tsv\"), \">\",\n",
    "             file.path(outdir, \"features.tsv.gz\")))\n",
    "file.remove(file.path(outdir, \"features.tsv\"))\n",
    "\n",
    "# matrix.mtx.gz\n",
    "data_matrix <- as.matrix(bulk_data)\n",
    "Matrix::writeMM(as(data_matrix, \"sparseMatrix\"), file.path(outdir, \"matrix.mtx\"))\n",
    "system(paste(\"gzip\", file.path(outdir, \"matrix.mtx\")))\n"
   ]
  }
 ],
 "metadata": {
  "kernelspec": {
   "display_name": "R 4.3.2",
   "language": "R",
   "name": "ir432"
  },
  "language_info": {
   "codemirror_mode": "r",
   "file_extension": ".r",
   "mimetype": "text/x-r-source",
   "name": "R",
   "pygments_lexer": "r",
   "version": "4.3.2"
  }
 },
 "nbformat": 4,
 "nbformat_minor": 5
}
