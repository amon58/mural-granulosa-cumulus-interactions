{
 "cells": [
  {
   "cell_type": "code",
   "execution_count": null,
   "id": "620719c5-7d48-436a-8265-7ba47de47234",
   "metadata": {},
   "outputs": [],
   "source": [
    "library(DESeq2)\n",
    "packageVersion(\"DESeq2\")\n",
    "count <- read.csv(\"Unique_gene_reads.csv\", row.names = 1)\n",
    "count <- as.matrix(count)\n",
    "dim(count)\n",
    "head(count)\n",
    "group <- data.frame(con = factor(c(\"CC0h\", \"CC0h\", \"CC0h\", \"CC4h\", \"CC4h\", \"CC4h\",\"CC12h\", \"CC12h\", \"CC12h\", \"MGC0h\", \"MGC0h\", \"MGC0h\", \"MGC4h\", \"MGC4h\",\"MGC4h\", \"MGC12h\", \"MGC12h\", \"MGC12h\")))\n",
    "dds <- DESeqDataSetFromMatrix(countData = count, colData = group, design = ~ con)\n",
    "dds <- DESeq(dds)\n",
    "comparison <- c(\"C4h\",\"C0h\")\n",
    "res <- results(dds, contrast = c(\"con\", comparison[1], comparison[2]))\n",
    "head(res)\n",
    "write.csv(res, file = \"C0vs4.csv\")\n",
    "\n",
    "comparison <- c(\"C12h\",\"C4h\")\n",
    "res <- results(dds, contrast = c(\"con\", comparison[1], comparison[2]))\n",
    "head(res)\n",
    "write.csv(res, file = \"C4vs12.csv\")\n",
    "\n",
    "\n",
    "comparison <- c(\"G4h\",\"G0h\")\n",
    "res <- results(dds, contrast = c(\"con\", comparison[1], comparison[2]))\n",
    "head(res)\n",
    "write.csv(res, file = \"G0vs4.csv\")\n",
    "\n",
    "\n",
    "comparison <- c(\"G12h\",\"G4h\")\n",
    "res <- results(dds, contrast = c(\"con\", comparison[1], comparison[2]))\n",
    "head(res)\n",
    "write.csv(res, file = \"G4vs12.csv\")\n",
    "\n",
    "\n",
    "\n",
    "# . Raw data after normalization\n",
    "\n",
    "normalized_counts <- counts(dds, normalized = TRUE)\n",
    "write.csv(normalized_counts, file = \"normalized_counts.csv\")\n"
   ]
  },
  {
   "cell_type": "code",
   "execution_count": null,
   "id": "62971789-f0d4-46ca-aaab-5c8f55707d79",
   "metadata": {},
   "outputs": [],
   "source": []
  }
 ],
 "metadata": {
  "kernelspec": {
   "display_name": "R 4.3.2",
   "language": "R",
   "name": "ir432"
  },
  "language_info": {
   "codemirror_mode": "r",
   "file_extension": ".r",
   "mimetype": "text/x-r-source",
   "name": "R",
   "pygments_lexer": "r",
   "version": "4.3.2"
  }
 },
 "nbformat": 4,
 "nbformat_minor": 5
}
