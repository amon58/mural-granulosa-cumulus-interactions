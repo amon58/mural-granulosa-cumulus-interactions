{
 "cells": [
  {
   "cell_type": "code",
   "execution_count": null,
   "id": "5233a76a-1be8-4f7a-b4c3-68a9b0cd2dee",
   "metadata": {},
   "outputs": [],
   "source": [
    "subsetCommunication"
   ]
  },
  {
   "cell_type": "markdown",
   "id": "182538e8-6b0c-4550-981e-8df87c7a5b35",
   "metadata": {},
   "source": [
    "# Interactome Analysis at 0 h after hCG Stimulation"
   ]
  },
  {
   "cell_type": "code",
   "execution_count": null,
   "id": "a47d9373-fed2-419f-9de3-68b21b213705",
   "metadata": {},
   "outputs": [],
   "source": [
    "# Loading data into Seurat\n",
    "library(Seurat)\n",
    "adata <- Read10X(data.dir = \"for_seurat_0h_6\", gene.column = 1, cell.column = 1)\n",
    "adata_dense <- as(as.matrix(Matrix::Matrix(adata)), \"matrix\")\n",
    "seurat_obj <- CreateSeuratObject(counts = adata_dense, assay = \"RNA\", project = \"my_project\")\n",
    "\n",
    "seurat_obj <- NormalizeData(seurat_obj,normalization.method = \"LogNormalize\",\n",
    "                              scale.factor = 10000)"
   ]
  },
  {
   "cell_type": "code",
   "execution_count": null,
   "id": "220312a2-8ff2-499a-a55c-2a2f544e32e8",
   "metadata": {},
   "outputs": [],
   "source": [
    "if (!require(devtools)) {\n",
    "  install.packages(\"devtools\")\n",
    "}\n",
    "devtools::install_github(\"sqjin/CellChat\")"
   ]
  },
  {
   "cell_type": "code",
   "execution_count": null,
   "id": "7d0bd264-fec5-44aa-9ab5-ca006445560c",
   "metadata": {},
   "outputs": [],
   "source": [
    "library(CellChat)"
   ]
  },
  {
   "cell_type": "code",
   "execution_count": null,
   "id": "fbef02ce-5224-4969-b57c-056649c4fee1",
   "metadata": {},
   "outputs": [],
   "source": [
    "if (!requireNamespace(\"BiocManager\", quietly = TRUE))\n",
    "    install.packages(\"BiocManager\")\n",
    "\n",
    "BiocManager::install(c(\"Biobase\", \"BiocNeighbors\", \"BiocGenerics\", \"ComplexHeatmap\"))"
   ]
  },
  {
   "cell_type": "code",
   "execution_count": null,
   "id": "4441f4e8-4663-496b-8a64-efcbf22169a5",
   "metadata": {},
   "outputs": [],
   "source": [
    "# . How to export data for CellChat\n",
    "data.input <- GetAssayData(seurat_obj, assay　= \"RNA\", layer = \"data\") # normalized data matrix\n",
    "labels <- Idents(seurat_obj)\n",
    "meta <- data.frame(group = labels, row.names = names(labels)) # create a dataframe of the cell labels\n",
    "# Specify the correct column name in the group.by parameter when executing createCellChat\n",
    "cellchat <- createCellChat(object = data.input, meta = meta, group.by = \"group\")"
   ]
  },
  {
   "cell_type": "code",
   "execution_count": null,
   "id": "7a5aff59-64ed-4288-91d2-cd5b0c6d3b0d",
   "metadata": {},
   "outputs": [],
   "source": [
    "library(patchwork)\n",
    "options(stringsAsFactors = FALSE)\n",
    "CellChatDB <- CellChatDB.mouse\n",
    "# use CellChatDB.mouse if running on mouse data\n",
    "showDatabaseCategory(CellChatDB)\n",
    "dplyr::glimpse(CellChatDB$interaction)\n",
    "CellChatDB.use <- subsetDB(CellChatDB, search = \"Secreted Signaling\")\n",
    "cellchat@DB <- CellChatDB.use\n",
    "cellchat <- subsetData(cellchat) \n",
    "future::plan(\"multisession\", workers = 4)\n",
    "cellchat <- identifyOverExpressedGenes(cellchat)\n",
    "cellchat <- identifyOverExpressedInteractions(cellchat)\n",
    "cellchat <- computeCommunProb(cellchat , raw.use = TRUE)\n",
    "df.net <- subsetCommunication(cellchat, thresh = 100)\n",
    "write.csv(df.net, file = \"0h_compro.csv\", row.names = FALSE)"
   ]
  },
  {
   "cell_type": "markdown",
   "id": "17f54417-1630-4b13-bb56-5b9865ecdcf3",
   "metadata": {},
   "source": [
    "# Interactome Analysis at 4 h after hCG Stimulation"
   ]
  },
  {
   "cell_type": "code",
   "execution_count": null,
   "id": "de3fa8c5-82bd-4057-b0b8-a571ca9e9f1f",
   "metadata": {},
   "outputs": [],
   "source": [
    "# Loading data into Seurat\n",
    "library(Seurat)\n",
    "adata <- Read10X(data.dir = \"for_seurat_4h_6\", gene.column = 1, cell.column = 1)\n",
    "adata_dense <- as(as.matrix(Matrix::Matrix(adata)), \"matrix\")\n",
    "seurat_obj <- CreateSeuratObject(counts = adata_dense, assay = \"RNA\", project = \"my_project\")\n",
    "\n",
    "seurat_obj <- NormalizeData(seurat_obj,normalization.method = \"LogNormalize\",\n",
    "                              scale.factor = 10000)"
   ]
  },
  {
   "cell_type": "code",
   "execution_count": null,
   "id": "b22980dd-006d-4ec0-a339-9e86f6edfd9c",
   "metadata": {},
   "outputs": [],
   "source": [
    "# . How to export data for CellChat\n",
    "data.input <- GetAssayData(seurat_obj, assay　= \"RNA\", layer = \"data\") # normalized data matrix\n",
    "labels <- Idents(seurat_obj)\n",
    "meta <- data.frame(group = labels, row.names = names(labels)) # create a dataframe of the cell labels\n",
    "# Specify the correct column name in the group.by parameter when executing createCellChat\n",
    "cellchat <- createCellChat(object = data.input, meta = meta, group.by = \"group\")"
   ]
  },
  {
   "cell_type": "code",
   "execution_count": null,
   "id": "976ac3ae-e4a2-4ec0-8f6b-cc7392f71b53",
   "metadata": {},
   "outputs": [],
   "source": [
    "library(patchwork)\n",
    "options(stringsAsFactors = FALSE)\n",
    "CellChatDB <- CellChatDB.mouse\n",
    "# use CellChatDB.mouse if running on mouse data\n",
    "showDatabaseCategory(CellChatDB)\n",
    "dplyr::glimpse(CellChatDB$interaction)\n",
    "CellChatDB.use <- subsetDB(CellChatDB, search = \"Secreted Signaling\")\n",
    "cellchat@DB <- CellChatDB.use\n",
    "cellchat <- subsetData(cellchat) \n",
    "future::plan(\"multisession\", workers = 4)\n",
    "cellchat <- identifyOverExpressedGenes(cellchat)\n",
    "cellchat <- identifyOverExpressedInteraction's(cellchat)\n",
    "cellchat <- computeCommunProb(cellchat , raw.use = TRUE)\n",
    "df.net <- subsetCommunication(cellchat, thresh = 100)\n",
    "write.csv(df.net, file = \"4h_compro.csv\", row.names = FALSE)"
   ]
  },
  {
   "cell_type": "markdown",
   "id": "ec6e9182-c284-4c0c-bcf5-4f01542b26a3",
   "metadata": {},
   "source": [
    "# Interactome Analysis at 12 h after hCG Stimulation"
   ]
  },
  {
   "cell_type": "code",
   "execution_count": null,
   "id": "cd72f924-6d69-45e3-9e9b-fa44271226bf",
   "metadata": {},
   "outputs": [],
   "source": [
    "# Loading data into Seurat\n",
    "library(Seurat)\n",
    "adata <- Read10X(data.dir = \"for_seurat_12h_6\", gene.column = 1, cell.column = 1)\n",
    "adata_dense <- as(as.matrix(Matrix::Matrix(adata)), \"matrix\")\n",
    "seurat_obj <- CreateSeuratObject(counts = adata_dense, assay = \"RNA\", project = \"my_project\")\n",
    "\n",
    "seurat_obj <- NormalizeData(seurat_obj,normalization.method = \"LogNormalize\",\n",
    "                              scale.factor = 10000)"
   ]
  },
  {
   "cell_type": "code",
   "execution_count": null,
   "id": "72819835-cdaa-4acd-ad10-ea91039e301e",
   "metadata": {},
   "outputs": [],
   "source": [
    "# . How to export data for CellChat\n",
    "data.input <- GetAssayData(seurat_obj, assay　= \"RNA\", layer = \"data\") # normalized data matrix\n",
    "labels <- Idents(seurat_obj)\n",
    "meta <- data.frame(group = labels, row.names = names(labels)) # create a dataframe of the cell labels\n",
    "# Specify the correct column name in the group.by parameter when executing createCellChat\n",
    "cellchat <- createCellChat(object = data.input, meta = meta, group.by = \"group\")"
   ]
  },
  {
   "cell_type": "code",
   "execution_count": null,
   "id": "94c6c2d1-d025-4e95-afe6-5fddde1122cc",
   "metadata": {},
   "outputs": [],
   "source": [
    "library(patchwork)\n",
    "options(stringsAsFactors = FALSE)\n",
    "CellChatDB <- CellChatDB.mouse\n",
    "# use CellChatDB.mouse if running on mouse data\n",
    "showDatabaseCategory(CellChatDB)\n",
    "dplyr::glimpse(CellChatDB$interaction)\n",
    "CellChatDB.use <- subsetDB(CellChatDB, search = \"Secreted Signaling\")\n",
    "cellchat@DB <- CellChatDB.use\n",
    "cellchat <- subsetData(cellchat) \n",
    "future::plan(\"multisession\", workers = 4)\n",
    "cellchat <- identifyOverExpressedGenes(cellchat)\n",
    "cellchat <- identifyOverExpressedInteractions(cellchat)\n",
    "cellchat <- computeCommunProb(cellchat , raw.use = TRUE)\n",
    "df.net <- subsetCommunication(cellchat, thresh = 100)\n",
    "write.csv(df.net, file = \"12h_compro.csv\", row.names = FALSE)"
   ]
  }
 ],
 "metadata": {
  "kernelspec": {
   "display_name": "R 4.3.2",
   "language": "R",
   "name": "ir432"
  },
  "language_info": {
   "codemirror_mode": "r",
   "file_extension": ".r",
   "mimetype": "text/x-r-source",
   "name": "R",
   "pygments_lexer": "r",
   "version": "4.3.2"
  }
 },
 "nbformat": 4,
 "nbformat_minor": 5
}
